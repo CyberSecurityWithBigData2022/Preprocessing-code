{
 "cells": [
  {
   "cell_type": "code",
   "execution_count": 517,
   "id": "5c61c37c",
   "metadata": {},
   "outputs": [],
   "source": [
    "import os\n",
    "import pandas as pd\n",
    "import numpy as np\n",
    "from tqdm import tqdm"
   ]
  },
  {
   "cell_type": "code",
   "execution_count": 518,
   "id": "37026fbf",
   "metadata": {
    "scrolled": true
   },
   "outputs": [
    {
     "data": {
      "text/plain": [
       "['Bruteforce_CWE-307',\n",
       " 'CVE-2012-2122',\n",
       " 'CVE-2014-0160',\n",
       " 'CVE-2017-7529',\n",
       " 'CVE-2018-3760',\n",
       " 'CVE-2019-5418',\n",
       " 'EPS_CWE-434',\n",
       " 'PHP_CWE-434',\n",
       " 'SQL_Injection_CWE-89',\n",
       " 'ZipSlip']"
      ]
     },
     "execution_count": 518,
     "metadata": {},
     "output_type": "execute_result"
    }
   ],
   "source": [
    "Attack_list = ['Bruteforce_CWE-307','CVE-2012-2122','CVE-2014-0160','CVE-2017-7529','CVE-2018-3760',\n",
    "               'CVE-2019-5418','EPS_CWE-434','PHP_CWE-434','SQL_Injection_CWE-89','ZipSlip']\n",
    "Attack_list"
   ]
  },
  {
   "cell_type": "code",
   "execution_count": 479,
   "id": "dc497526",
   "metadata": {},
   "outputs": [],
   "source": [
    "def make_csv(name): # .txt -> .csv converting function\n",
    "    file_list = os.listdir(\"/Users/cain/Desktop/Project/Anomaly_Detection_Project/LID-DS-2019/\"+name)\n",
    "    file_list.remove('.DS_Store') #Mac의 경우만 존재하는 것 같음 Mac환경이 아니라면 이 row를 무방함\n",
    "    print(len(file_list))\n",
    "    base_dir = '/Users/cain/Desktop/Project/Anomaly_Detection_Project/LID-DS-2019/'+name+'/'#txt파일이 들어있는 폴더가 있는 dir\n",
    "    base_csv_dir = '/Users/cain/Desktop/Project/Anomaly_Detection_Project/LID-DS-2019/CSV/'+name+'/'#CSV파일을 저장할 폴더\n",
    "    for e in tqdm(file_list):\n",
    "        dir = base_dir + e\n",
    "        sample = pd.read_table(dir, header=None)\n",
    "        tmp = list()\n",
    "        for i in range (sample.shape[0]):\n",
    "            x = sample[0][i]\n",
    "            sp = x.split(' ', 8)\n",
    "            tmp.append(sp)\n",
    "        data = pd.DataFrame(tmp,columns=['event_num','event_time','cpu','user_uid','process','process_id','event_direction','event_type','event_argument'])\n",
    "        data.reset_index(drop=True,inplace=True)\n",
    "        file_name_csv = e.replace('.txt','.csv')\n",
    "        save_dir = base_csv_dir + file_name_csv\n",
    "        data.to_csv(save_dir)"
   ]
  },
  {
   "cell_type": "code",
   "execution_count": 241,
   "id": "a487725d",
   "metadata": {},
   "outputs": [
    {
     "name": "stdout",
     "output_type": "stream",
     "text": [
      "1221\n"
     ]
    },
    {
     "name": "stderr",
     "output_type": "stream",
     "text": [
      "100%|███████████████████████████████████████| 1221/1221 [04:23<00:00,  4.64it/s]\n"
     ]
    },
    {
     "name": "stdout",
     "output_type": "stream",
     "text": [
      "1079\n"
     ]
    },
    {
     "name": "stderr",
     "output_type": "stream",
     "text": [
      "100%|███████████████████████████████████████| 1079/1079 [04:04<00:00,  4.41it/s]\n"
     ]
    },
    {
     "name": "stdout",
     "output_type": "stream",
     "text": [
      "1071\n"
     ]
    },
    {
     "name": "stderr",
     "output_type": "stream",
     "text": [
      "100%|███████████████████████████████████████| 1071/1071 [32:11<00:00,  1.80s/it]\n"
     ]
    },
    {
     "name": "stdout",
     "output_type": "stream",
     "text": [
      "1112\n"
     ]
    },
    {
     "name": "stderr",
     "output_type": "stream",
     "text": [
      "100%|███████████████████████████████████████| 1112/1112 [05:47<00:00,  3.20it/s]\n"
     ]
    },
    {
     "name": "stdout",
     "output_type": "stream",
     "text": [
      "1078\n"
     ]
    },
    {
     "name": "stderr",
     "output_type": "stream",
     "text": [
      "100%|███████████████████████████████████████| 1078/1078 [06:06<00:00,  2.94it/s]\n"
     ]
    },
    {
     "name": "stdout",
     "output_type": "stream",
     "text": [
      "1063\n"
     ]
    },
    {
     "name": "stderr",
     "output_type": "stream",
     "text": [
      "100%|█████████████████████████████████████| 1063/1063 [1:07:01<00:00,  3.78s/it]\n"
     ]
    }
   ],
   "source": [
    "for e in Attack_list: #.txt -> .csv converting part\n",
    "    print(e)\n",
    "    make_csv(e)"
   ]
  },
  {
   "cell_type": "code",
   "execution_count": 537,
   "id": "51419223",
   "metadata": {},
   "outputs": [],
   "source": [
    "def runs_preprocessing(name): #run_file preprocessing function\n",
    "    run_file = pd.read_csv('/Users/cain/Desktop/Project/Anomaly_Detection_Project/LID-DS-2019/CSV/'+name+'/run/runs.csv')\n",
    "    #runs.csv파일을 저는 CSV/Bruteforce_CWE-307/run/runs.csv와 같은 dir에 넣어놓았습니다.\n",
    "    #run_file에 해당공격의 runs.csv파일을 읽어오게 하시면 됩니다.\n",
    "    run_file.columns = ['image_name','scenario_name','is_executing_exploit','warmup_time',\n",
    "                       'recording_time', 'exploit_start_time']\n",
    "    run_file['image_name'] = run_file['image_name'].str.strip()\n",
    "    run_file['scenario_name'] = run_file['scenario_name'].str.strip()\n",
    "    run_file.to_csv('/Users/cain/Desktop/Project/Anomaly_Detection_Project/LID-DS-2019/CSV/'+name+'/run/runs.csv', index=False)\n",
    "    #이부분도 원하시는 dir를 설정하여 저장하시면 됩니다."
   ]
  },
  {
   "cell_type": "code",
   "execution_count": 526,
   "id": "e456d8d2",
   "metadata": {},
   "outputs": [
    {
     "name": "stderr",
     "output_type": "stream",
     "text": [
      "100%|██████████████████████████████████████████| 10/10 [00:00<00:00, 159.70it/s]"
     ]
    },
    {
     "name": "stdout",
     "output_type": "stream",
     "text": [
      "Bruteforce_CWE-307\n",
      "CVE-2012-2122\n",
      "CVE-2014-0160\n",
      "CVE-2017-7529\n",
      "CVE-2018-3760\n",
      "CVE-2019-5418\n",
      "EPS_CWE-434\n",
      "PHP_CWE-434\n",
      "SQL_Injection_CWE-89\n",
      "ZipSlip\n"
     ]
    },
    {
     "name": "stderr",
     "output_type": "stream",
     "text": [
      "\n"
     ]
    }
   ],
   "source": [
    "for e in tqdm(Attack_list): # run_file preprocessing pa\n",
    "    print(e)\n",
    "    runs_preprocessing(e)"
   ]
  },
  {
   "cell_type": "code",
   "execution_count": 538,
   "id": "91259a9f",
   "metadata": {},
   "outputs": [],
   "source": [
    "def data_preprocessing(name): # data_preprocessing(labeling,...)\n",
    "    file_list = os.listdir(\"/Users/cain/Desktop/Project/Anomaly_Detection_Project/LID-DS-2019/CSV/\"+name)\n",
    "    \n",
    "    #CSV파일 리스트 읽어오기\n",
    "    file_list.remove('.DS_Store') #Mac의 경우만 존재하는 것 같음\n",
    "    file_list.remove('run') #저는 /CSV/run 폴더에 runs.csv파일을 넣어놓았기 때문에 디렉토리를 삭제\n",
    "    print(len(file_list))\n",
    "    base_csv_dir = '/Users/cain/Desktop/Project/Anomaly_Detection_Project/LID-DS-2019/CSV/'+name+'/'\n",
    "    #CSV파일이 들어있는 폴더\n",
    "    for e in tqdm(file_list):\n",
    "        dir = base_csv_dir + e\n",
    "        n = e.replace('.csv','')\n",
    "        sample = pd.read_csv(dir, index_col=0)\n",
    "        sample['event_time'] = sample['event_time'].str.slice(start=0, stop=8)\n",
    "        sample['label'] = 0\n",
    "        run_file = pd.read_csv('/Users/cain/Desktop/Project/Anomaly_Detection_Project/LID-DS-2019/CSV/'+name+'/run/runs.csv')\n",
    "        #해당 공격의 runs.csv파일을 읽어오게 하면 됩니다. dir 설정부탁\n",
    "        if run_file['exploit_start_time'][run_file['scenario_name']==n].values[0] != -1:\n",
    "            record_start = int(sample['event_time'][0][6:8])#time split only second\n",
    "            exploit_start = run_file['exploit_start_time'][run_file['scenario_name']==n].values[0]\n",
    "            tmp_time = record_start + exploit_start\n",
    "            if tmp_time > 60:\n",
    "\n",
    "                real_exploit_sec = tmp_time - 60\n",
    "            else:\n",
    "                real_exploit_sec = tmp_time\n",
    "            sample.loc[sample['event_time'].str.slice(6,8) == str(real_exploit_sec),'label'] = 1\n",
    "        sample.to_csv(dir)\n",
    "            #그대로 저장"
   ]
  },
  {
   "cell_type": "code",
   "execution_count": 539,
   "id": "fd60a29e",
   "metadata": {
    "scrolled": true
   },
   "outputs": [
    {
     "name": "stdout",
     "output_type": "stream",
     "text": [
      "Bruteforce_CWE-307\n",
      "1092\n"
     ]
    },
    {
     "name": "stderr",
     "output_type": "stream",
     "text": [
      "100%|███████████████████████████████████████| 1092/1092 [00:39<00:00, 27.57it/s]\n"
     ]
    },
    {
     "name": "stdout",
     "output_type": "stream",
     "text": [
      "CVE-2012-2122\n",
      "1395\n"
     ]
    },
    {
     "name": "stderr",
     "output_type": "stream",
     "text": [
      "100%|███████████████████████████████████████| 1395/1395 [00:45<00:00, 30.47it/s]\n"
     ]
    },
    {
     "name": "stdout",
     "output_type": "stream",
     "text": [
      "CVE-2014-0160\n",
      "1100\n"
     ]
    },
    {
     "name": "stderr",
     "output_type": "stream",
     "text": [
      "100%|███████████████████████████████████████| 1100/1100 [00:28<00:00, 38.90it/s]\n"
     ]
    },
    {
     "name": "stdout",
     "output_type": "stream",
     "text": [
      "CVE-2017-7529\n",
      "1157\n"
     ]
    },
    {
     "name": "stderr",
     "output_type": "stream",
     "text": [
      "100%|███████████████████████████████████████| 1157/1157 [00:16<00:00, 70.71it/s]\n"
     ]
    },
    {
     "name": "stdout",
     "output_type": "stream",
     "text": [
      "CVE-2018-3760\n",
      "1221\n"
     ]
    },
    {
     "name": "stderr",
     "output_type": "stream",
     "text": [
      "100%|███████████████████████████████████████| 1221/1221 [01:48<00:00, 11.23it/s]\n"
     ]
    },
    {
     "name": "stdout",
     "output_type": "stream",
     "text": [
      "CVE-2019-5418\n",
      "1079\n"
     ]
    },
    {
     "name": "stderr",
     "output_type": "stream",
     "text": [
      "100%|███████████████████████████████████████| 1079/1079 [01:42<00:00, 10.53it/s]\n"
     ]
    },
    {
     "name": "stdout",
     "output_type": "stream",
     "text": [
      "EPS_CWE-434\n",
      "1071\n"
     ]
    },
    {
     "name": "stderr",
     "output_type": "stream",
     "text": [
      "100%|███████████████████████████████████████| 1071/1071 [13:09<00:00,  1.36it/s]\n"
     ]
    },
    {
     "name": "stdout",
     "output_type": "stream",
     "text": [
      "PHP_CWE-434\n",
      "1112\n"
     ]
    },
    {
     "name": "stderr",
     "output_type": "stream",
     "text": [
      "100%|███████████████████████████████████████| 1112/1112 [07:35<00:00,  2.44it/s]\n"
     ]
    },
    {
     "name": "stdout",
     "output_type": "stream",
     "text": [
      "SQL_Injection_CWE-89\n",
      "1078\n"
     ]
    },
    {
     "name": "stderr",
     "output_type": "stream",
     "text": [
      "100%|███████████████████████████████████████| 1078/1078 [03:44<00:00,  4.80it/s]\n"
     ]
    },
    {
     "name": "stdout",
     "output_type": "stream",
     "text": [
      "ZipSlip\n",
      "1063\n"
     ]
    },
    {
     "name": "stderr",
     "output_type": "stream",
     "text": [
      "100%|███████████████████████████████████████| 1063/1063 [28:22<00:00,  1.60s/it]\n"
     ]
    }
   ],
   "source": [
    "for e in Attack_list:\n",
    "    print(e)\n",
    "    data_preprocessing(e)"
   ]
  },
  {
   "cell_type": "markdown",
   "id": "3583323b",
   "metadata": {},
   "source": [
    "---------------------------------------------------------------------------------------------------------------\n",
    "EDA Part"
   ]
  },
  {
   "cell_type": "code",
   "execution_count": null,
   "id": "6f37608f",
   "metadata": {},
   "outputs": [],
   "source": [
    "file_list = os.listdir(\"/Users/cain/Desktop/Project/Anomaly_Detection_Project/LID-DS-2019/CSV/\"+\"Bruteforce_CWE-307\")\n",
    "file_list.remove('.DS_Store') #Mac의 경우만 존재하는 것 같음\n",
    "file_list.remove('run') #저는 /CSV/run 폴더에 runs.csv파일을 넣어놓았기 때문에 디렉토리를 삭제\n",
    "print(len(file_list))\n",
    "tmp = list()\n",
    "for e in tqdm(file_list):\n",
    "    dir = \"/Users/cain/Desktop/Project/Anomaly_Detection_Project/LID-DS-2019/CSV/\"+\"Bruteforce_CWE\"+e\n",
    "    sample = pd.read_csv(dir, index_col=0)\n",
    "    arr = sample.array()\n",
    "    tmp.append(sample)\n",
    "data= pd.DataFrame(tmp,columns=['event_num','event_time','cpu','user_uid','process','process_id','event_direction','event_type','event_argument','label'])\n",
    "print(data)\n",
    "data.shape\n",
    "    \n",
    "    "
   ]
  },
  {
   "cell_type": "markdown",
   "id": "5a206489",
   "metadata": {},
   "source": [
    "---------------------------------------------------------------------------------------------------------------\n",
    "Code test part"
   ]
  },
  {
   "cell_type": "code",
   "execution_count": 452,
   "id": "1478d501",
   "metadata": {},
   "outputs": [],
   "source": [
    "run_file = pd.read_csv('/Users/cain/Desktop/Project/Anomaly_Detection_Project/LID-DS-2019/CSV/'+'Bruteforce_CWE-307'+'/run/runs.csv')"
   ]
  },
  {
   "cell_type": "code",
   "execution_count": 403,
   "id": "671a2b38",
   "metadata": {},
   "outputs": [],
   "source": [
    "sample = pd.read_csv('/Users/cain/Desktop/Project/Anomaly_Detection_Project/LID-DS-2019/CSV/'+'ex'+'/tiny_leakey_3874.csv', index_col = 0)"
   ]
  },
  {
   "cell_type": "code",
   "execution_count": 510,
   "id": "a74e0703",
   "metadata": {},
   "outputs": [
    {
     "name": "stdout",
     "output_type": "stream",
     "text": [
      "57\n",
      "22\n",
      "19\n",
      "0    22735\n",
      "1       82\n",
      "Name: label, dtype: int64\n"
     ]
    }
   ],
   "source": [
    "sample = pd.read_csv('/Users/cain/Desktop/Project/Anomaly_Detection_Project/LID-DS-2019/CSV/'+'ex'+'/tiny_leakey_3874.csv', index_col = 0)\n",
    "sample['event_time'] = sample['event_time'].str.slice(0,8)\n",
    "sample['label']=0 # \n",
    "if run_file['exploit_start_time'][run_file['scenario_name']=='tiny_leakey_3874'].values[0] != -1:\n",
    "    record_start = int(sample['event_time'][0][6:8])\n",
    "    exploit_start = run_file['exploit_start_time'][run_file['scenario_name']=='tiny_leakey_3874'].values[0]\n",
    "    tmp_time = record_start + exploit_start\n",
    "    print(record_start)\n",
    "    print(exploit_start)\n",
    "    if tmp_time > 60:\n",
    "        real_exploit_sec = tmp_time - 60\n",
    "    else:\n",
    "        real_exploit_sec = tmp_time\n",
    "    print(real_exploit_sec)\n",
    "    sample.loc[sample['event_time'].str.slice(6,8) == str(real_exploit_sec),'label'] = 1\n",
    "    print(sample['label'].value_counts())\n",
    "    sample.to_csv('/Users/cain/Desktop/Project/Anomaly_Detection_Project/LID-DS-2019/CSV/'+'ex'+'/haha.csv')\n",
    "    "
   ]
  }
 ],
 "metadata": {
  "kernelspec": {
   "display_name": "Python 3 (ipykernel)",
   "language": "python",
   "name": "python3"
  },
  "language_info": {
   "codemirror_mode": {
    "name": "ipython",
    "version": 3
   },
   "file_extension": ".py",
   "mimetype": "text/x-python",
   "name": "python",
   "nbconvert_exporter": "python",
   "pygments_lexer": "ipython3",
   "version": "3.8.11"
  }
 },
 "nbformat": 4,
 "nbformat_minor": 5
}
